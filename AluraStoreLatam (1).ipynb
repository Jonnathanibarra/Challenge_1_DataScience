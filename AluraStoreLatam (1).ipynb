{
  "nbformat": 4,
  "nbformat_minor": 0,
  "metadata": {
    "colab": {
      "provenance": []
    },
    "kernelspec": {
      "name": "python3",
      "display_name": "Python 3"
    },
    "language_info": {
      "name": "python"
    }
  },
  "cells": [
    {
      "cell_type": "markdown",
      "source": [
        "### Importación de datos\n",
        "\n"
      ],
      "metadata": {
        "id": "RhEdWd9YUR6H"
      }
    },
    {
      "cell_type": "code",
      "execution_count": 1,
      "metadata": {
        "colab": {
          "base_uri": "https://localhost:8080/",
          "height": 400
        },
        "id": "T3EvaeQ_INIL",
        "outputId": "a5eba245-8f0f-4a30-9f7a-896d56f715e4"
      },
      "outputs": [
        {
          "output_type": "execute_result",
          "data": {
            "text/plain": [
              "            Producto Categoría del Producto    Precio  Costo de envío  \\\n",
              "0  Asistente virtual           Electrónicos  164300.0          6900.0   \n",
              "1    Mesa de comedor                Muebles  192300.0          8400.0   \n",
              "2      Juego de mesa               Juguetes  209600.0         15900.0   \n",
              "3         Microondas      Electrodomésticos  757500.0         41000.0   \n",
              "4   Silla de oficina                Muebles  335200.0         20200.0   \n",
              "\n",
              "  Fecha de Compra         Vendedor Lugar de Compra  Calificación  \\\n",
              "0      16/01/2021      Pedro Gomez          Bogotá             4   \n",
              "1      18/05/2022  Beatriz Morales        Medellín             1   \n",
              "2      15/03/2021   Juan Fernandez       Cartagena             1   \n",
              "3      03/05/2022   Juan Fernandez            Cali             4   \n",
              "4      07/11/2020    Maria Alfonso        Medellín             5   \n",
              "\n",
              "       Método de pago  Cantidad de cuotas       lat       lon  \n",
              "0  Tarjeta de crédito                   8   4.60971 -74.08175  \n",
              "1  Tarjeta de crédito                   4   6.25184 -75.56359  \n",
              "2  Tarjeta de crédito                   1  10.39972 -75.51444  \n",
              "3               Nequi                   1   3.43722 -76.52250  \n",
              "4               Nequi                   1   6.25184 -75.56359  "
            ],
            "text/html": [
              "\n",
              "  <div id=\"df-e4eae977-5861-4098-8168-4bb6a1e7f8e0\" class=\"colab-df-container\">\n",
              "    <div>\n",
              "<style scoped>\n",
              "    .dataframe tbody tr th:only-of-type {\n",
              "        vertical-align: middle;\n",
              "    }\n",
              "\n",
              "    .dataframe tbody tr th {\n",
              "        vertical-align: top;\n",
              "    }\n",
              "\n",
              "    .dataframe thead th {\n",
              "        text-align: right;\n",
              "    }\n",
              "</style>\n",
              "<table border=\"1\" class=\"dataframe\">\n",
              "  <thead>\n",
              "    <tr style=\"text-align: right;\">\n",
              "      <th></th>\n",
              "      <th>Producto</th>\n",
              "      <th>Categoría del Producto</th>\n",
              "      <th>Precio</th>\n",
              "      <th>Costo de envío</th>\n",
              "      <th>Fecha de Compra</th>\n",
              "      <th>Vendedor</th>\n",
              "      <th>Lugar de Compra</th>\n",
              "      <th>Calificación</th>\n",
              "      <th>Método de pago</th>\n",
              "      <th>Cantidad de cuotas</th>\n",
              "      <th>lat</th>\n",
              "      <th>lon</th>\n",
              "    </tr>\n",
              "  </thead>\n",
              "  <tbody>\n",
              "    <tr>\n",
              "      <th>0</th>\n",
              "      <td>Asistente virtual</td>\n",
              "      <td>Electrónicos</td>\n",
              "      <td>164300.0</td>\n",
              "      <td>6900.0</td>\n",
              "      <td>16/01/2021</td>\n",
              "      <td>Pedro Gomez</td>\n",
              "      <td>Bogotá</td>\n",
              "      <td>4</td>\n",
              "      <td>Tarjeta de crédito</td>\n",
              "      <td>8</td>\n",
              "      <td>4.60971</td>\n",
              "      <td>-74.08175</td>\n",
              "    </tr>\n",
              "    <tr>\n",
              "      <th>1</th>\n",
              "      <td>Mesa de comedor</td>\n",
              "      <td>Muebles</td>\n",
              "      <td>192300.0</td>\n",
              "      <td>8400.0</td>\n",
              "      <td>18/05/2022</td>\n",
              "      <td>Beatriz Morales</td>\n",
              "      <td>Medellín</td>\n",
              "      <td>1</td>\n",
              "      <td>Tarjeta de crédito</td>\n",
              "      <td>4</td>\n",
              "      <td>6.25184</td>\n",
              "      <td>-75.56359</td>\n",
              "    </tr>\n",
              "    <tr>\n",
              "      <th>2</th>\n",
              "      <td>Juego de mesa</td>\n",
              "      <td>Juguetes</td>\n",
              "      <td>209600.0</td>\n",
              "      <td>15900.0</td>\n",
              "      <td>15/03/2021</td>\n",
              "      <td>Juan Fernandez</td>\n",
              "      <td>Cartagena</td>\n",
              "      <td>1</td>\n",
              "      <td>Tarjeta de crédito</td>\n",
              "      <td>1</td>\n",
              "      <td>10.39972</td>\n",
              "      <td>-75.51444</td>\n",
              "    </tr>\n",
              "    <tr>\n",
              "      <th>3</th>\n",
              "      <td>Microondas</td>\n",
              "      <td>Electrodomésticos</td>\n",
              "      <td>757500.0</td>\n",
              "      <td>41000.0</td>\n",
              "      <td>03/05/2022</td>\n",
              "      <td>Juan Fernandez</td>\n",
              "      <td>Cali</td>\n",
              "      <td>4</td>\n",
              "      <td>Nequi</td>\n",
              "      <td>1</td>\n",
              "      <td>3.43722</td>\n",
              "      <td>-76.52250</td>\n",
              "    </tr>\n",
              "    <tr>\n",
              "      <th>4</th>\n",
              "      <td>Silla de oficina</td>\n",
              "      <td>Muebles</td>\n",
              "      <td>335200.0</td>\n",
              "      <td>20200.0</td>\n",
              "      <td>07/11/2020</td>\n",
              "      <td>Maria Alfonso</td>\n",
              "      <td>Medellín</td>\n",
              "      <td>5</td>\n",
              "      <td>Nequi</td>\n",
              "      <td>1</td>\n",
              "      <td>6.25184</td>\n",
              "      <td>-75.56359</td>\n",
              "    </tr>\n",
              "  </tbody>\n",
              "</table>\n",
              "</div>\n",
              "    <div class=\"colab-df-buttons\">\n",
              "\n",
              "  <div class=\"colab-df-container\">\n",
              "    <button class=\"colab-df-convert\" onclick=\"convertToInteractive('df-e4eae977-5861-4098-8168-4bb6a1e7f8e0')\"\n",
              "            title=\"Convert this dataframe to an interactive table.\"\n",
              "            style=\"display:none;\">\n",
              "\n",
              "  <svg xmlns=\"http://www.w3.org/2000/svg\" height=\"24px\" viewBox=\"0 -960 960 960\">\n",
              "    <path d=\"M120-120v-720h720v720H120Zm60-500h600v-160H180v160Zm220 220h160v-160H400v160Zm0 220h160v-160H400v160ZM180-400h160v-160H180v160Zm440 0h160v-160H620v160ZM180-180h160v-160H180v160Zm440 0h160v-160H620v160Z\"/>\n",
              "  </svg>\n",
              "    </button>\n",
              "\n",
              "  <style>\n",
              "    .colab-df-container {\n",
              "      display:flex;\n",
              "      gap: 12px;\n",
              "    }\n",
              "\n",
              "    .colab-df-convert {\n",
              "      background-color: #E8F0FE;\n",
              "      border: none;\n",
              "      border-radius: 50%;\n",
              "      cursor: pointer;\n",
              "      display: none;\n",
              "      fill: #1967D2;\n",
              "      height: 32px;\n",
              "      padding: 0 0 0 0;\n",
              "      width: 32px;\n",
              "    }\n",
              "\n",
              "    .colab-df-convert:hover {\n",
              "      background-color: #E2EBFA;\n",
              "      box-shadow: 0px 1px 2px rgba(60, 64, 67, 0.3), 0px 1px 3px 1px rgba(60, 64, 67, 0.15);\n",
              "      fill: #174EA6;\n",
              "    }\n",
              "\n",
              "    .colab-df-buttons div {\n",
              "      margin-bottom: 4px;\n",
              "    }\n",
              "\n",
              "    [theme=dark] .colab-df-convert {\n",
              "      background-color: #3B4455;\n",
              "      fill: #D2E3FC;\n",
              "    }\n",
              "\n",
              "    [theme=dark] .colab-df-convert:hover {\n",
              "      background-color: #434B5C;\n",
              "      box-shadow: 0px 1px 3px 1px rgba(0, 0, 0, 0.15);\n",
              "      filter: drop-shadow(0px 1px 2px rgba(0, 0, 0, 0.3));\n",
              "      fill: #FFFFFF;\n",
              "    }\n",
              "  </style>\n",
              "\n",
              "    <script>\n",
              "      const buttonEl =\n",
              "        document.querySelector('#df-e4eae977-5861-4098-8168-4bb6a1e7f8e0 button.colab-df-convert');\n",
              "      buttonEl.style.display =\n",
              "        google.colab.kernel.accessAllowed ? 'block' : 'none';\n",
              "\n",
              "      async function convertToInteractive(key) {\n",
              "        const element = document.querySelector('#df-e4eae977-5861-4098-8168-4bb6a1e7f8e0');\n",
              "        const dataTable =\n",
              "          await google.colab.kernel.invokeFunction('convertToInteractive',\n",
              "                                                    [key], {});\n",
              "        if (!dataTable) return;\n",
              "\n",
              "        const docLinkHtml = 'Like what you see? Visit the ' +\n",
              "          '<a target=\"_blank\" href=https://colab.research.google.com/notebooks/data_table.ipynb>data table notebook</a>'\n",
              "          + ' to learn more about interactive tables.';\n",
              "        element.innerHTML = '';\n",
              "        dataTable['output_type'] = 'display_data';\n",
              "        await google.colab.output.renderOutput(dataTable, element);\n",
              "        const docLink = document.createElement('div');\n",
              "        docLink.innerHTML = docLinkHtml;\n",
              "        element.appendChild(docLink);\n",
              "      }\n",
              "    </script>\n",
              "  </div>\n",
              "\n",
              "\n",
              "    <div id=\"df-523cce80-2801-4d43-b46f-6f2a1b0737d1\">\n",
              "      <button class=\"colab-df-quickchart\" onclick=\"quickchart('df-523cce80-2801-4d43-b46f-6f2a1b0737d1')\"\n",
              "                title=\"Suggest charts\"\n",
              "                style=\"display:none;\">\n",
              "\n",
              "<svg xmlns=\"http://www.w3.org/2000/svg\" height=\"24px\"viewBox=\"0 0 24 24\"\n",
              "     width=\"24px\">\n",
              "    <g>\n",
              "        <path d=\"M19 3H5c-1.1 0-2 .9-2 2v14c0 1.1.9 2 2 2h14c1.1 0 2-.9 2-2V5c0-1.1-.9-2-2-2zM9 17H7v-7h2v7zm4 0h-2V7h2v10zm4 0h-2v-4h2v4z\"/>\n",
              "    </g>\n",
              "</svg>\n",
              "      </button>\n",
              "\n",
              "<style>\n",
              "  .colab-df-quickchart {\n",
              "      --bg-color: #E8F0FE;\n",
              "      --fill-color: #1967D2;\n",
              "      --hover-bg-color: #E2EBFA;\n",
              "      --hover-fill-color: #174EA6;\n",
              "      --disabled-fill-color: #AAA;\n",
              "      --disabled-bg-color: #DDD;\n",
              "  }\n",
              "\n",
              "  [theme=dark] .colab-df-quickchart {\n",
              "      --bg-color: #3B4455;\n",
              "      --fill-color: #D2E3FC;\n",
              "      --hover-bg-color: #434B5C;\n",
              "      --hover-fill-color: #FFFFFF;\n",
              "      --disabled-bg-color: #3B4455;\n",
              "      --disabled-fill-color: #666;\n",
              "  }\n",
              "\n",
              "  .colab-df-quickchart {\n",
              "    background-color: var(--bg-color);\n",
              "    border: none;\n",
              "    border-radius: 50%;\n",
              "    cursor: pointer;\n",
              "    display: none;\n",
              "    fill: var(--fill-color);\n",
              "    height: 32px;\n",
              "    padding: 0;\n",
              "    width: 32px;\n",
              "  }\n",
              "\n",
              "  .colab-df-quickchart:hover {\n",
              "    background-color: var(--hover-bg-color);\n",
              "    box-shadow: 0 1px 2px rgba(60, 64, 67, 0.3), 0 1px 3px 1px rgba(60, 64, 67, 0.15);\n",
              "    fill: var(--button-hover-fill-color);\n",
              "  }\n",
              "\n",
              "  .colab-df-quickchart-complete:disabled,\n",
              "  .colab-df-quickchart-complete:disabled:hover {\n",
              "    background-color: var(--disabled-bg-color);\n",
              "    fill: var(--disabled-fill-color);\n",
              "    box-shadow: none;\n",
              "  }\n",
              "\n",
              "  .colab-df-spinner {\n",
              "    border: 2px solid var(--fill-color);\n",
              "    border-color: transparent;\n",
              "    border-bottom-color: var(--fill-color);\n",
              "    animation:\n",
              "      spin 1s steps(1) infinite;\n",
              "  }\n",
              "\n",
              "  @keyframes spin {\n",
              "    0% {\n",
              "      border-color: transparent;\n",
              "      border-bottom-color: var(--fill-color);\n",
              "      border-left-color: var(--fill-color);\n",
              "    }\n",
              "    20% {\n",
              "      border-color: transparent;\n",
              "      border-left-color: var(--fill-color);\n",
              "      border-top-color: var(--fill-color);\n",
              "    }\n",
              "    30% {\n",
              "      border-color: transparent;\n",
              "      border-left-color: var(--fill-color);\n",
              "      border-top-color: var(--fill-color);\n",
              "      border-right-color: var(--fill-color);\n",
              "    }\n",
              "    40% {\n",
              "      border-color: transparent;\n",
              "      border-right-color: var(--fill-color);\n",
              "      border-top-color: var(--fill-color);\n",
              "    }\n",
              "    60% {\n",
              "      border-color: transparent;\n",
              "      border-right-color: var(--fill-color);\n",
              "    }\n",
              "    80% {\n",
              "      border-color: transparent;\n",
              "      border-right-color: var(--fill-color);\n",
              "      border-bottom-color: var(--fill-color);\n",
              "    }\n",
              "    90% {\n",
              "      border-color: transparent;\n",
              "      border-bottom-color: var(--fill-color);\n",
              "    }\n",
              "  }\n",
              "</style>\n",
              "\n",
              "      <script>\n",
              "        async function quickchart(key) {\n",
              "          const quickchartButtonEl =\n",
              "            document.querySelector('#' + key + ' button');\n",
              "          quickchartButtonEl.disabled = true;  // To prevent multiple clicks.\n",
              "          quickchartButtonEl.classList.add('colab-df-spinner');\n",
              "          try {\n",
              "            const charts = await google.colab.kernel.invokeFunction(\n",
              "                'suggestCharts', [key], {});\n",
              "          } catch (error) {\n",
              "            console.error('Error during call to suggestCharts:', error);\n",
              "          }\n",
              "          quickchartButtonEl.classList.remove('colab-df-spinner');\n",
              "          quickchartButtonEl.classList.add('colab-df-quickchart-complete');\n",
              "        }\n",
              "        (() => {\n",
              "          let quickchartButtonEl =\n",
              "            document.querySelector('#df-523cce80-2801-4d43-b46f-6f2a1b0737d1 button');\n",
              "          quickchartButtonEl.style.display =\n",
              "            google.colab.kernel.accessAllowed ? 'block' : 'none';\n",
              "        })();\n",
              "      </script>\n",
              "    </div>\n",
              "\n",
              "    </div>\n",
              "  </div>\n"
            ],
            "application/vnd.google.colaboratory.intrinsic+json": {
              "type": "dataframe",
              "variable_name": "tienda",
              "summary": "{\n  \"name\": \"tienda\",\n  \"rows\": 2359,\n  \"fields\": [\n    {\n      \"column\": \"Producto\",\n      \"properties\": {\n        \"dtype\": \"category\",\n        \"num_unique_values\": 51,\n        \"samples\": [\n          \"Guitarra ac\\u00fastica\",\n          \"Bal\\u00f3n de baloncesto\",\n          \"Smartwatch\"\n        ],\n        \"semantic_type\": \"\",\n        \"description\": \"\"\n      }\n    },\n    {\n      \"column\": \"Categor\\u00eda del Producto\",\n      \"properties\": {\n        \"dtype\": \"category\",\n        \"num_unique_values\": 8,\n        \"samples\": [\n          \"Muebles\",\n          \"Deportes y diversi\\u00f3n\",\n          \"Electr\\u00f3nicos\"\n        ],\n        \"semantic_type\": \"\",\n        \"description\": \"\"\n      }\n    },\n    {\n      \"column\": \"Precio\",\n      \"properties\": {\n        \"dtype\": \"number\",\n        \"std\": 614686.7653873172,\n        \"min\": 7600.0,\n        \"max\": 2977000.0,\n        \"num_unique_values\": 1937,\n        \"samples\": [\n          2499400.0,\n          14800.0,\n          80500.0\n        ],\n        \"semantic_type\": \"\",\n        \"description\": \"\"\n      }\n    },\n    {\n      \"column\": \"Costo de env\\u00edo\",\n      \"properties\": {\n        \"dtype\": \"number\",\n        \"std\": 32860.0017825605,\n        \"min\": 0.0,\n        \"max\": 160800.0,\n        \"num_unique_values\": 753,\n        \"samples\": [\n          117800.0,\n          54700.0,\n          45600.0\n        ],\n        \"semantic_type\": \"\",\n        \"description\": \"\"\n      }\n    },\n    {\n      \"column\": \"Fecha de Compra\",\n      \"properties\": {\n        \"dtype\": \"object\",\n        \"num_unique_values\": 1018,\n        \"samples\": [\n          \"15/09/2022\",\n          \"03/06/2020\",\n          \"06/11/2021\"\n        ],\n        \"semantic_type\": \"\",\n        \"description\": \"\"\n      }\n    },\n    {\n      \"column\": \"Vendedor\",\n      \"properties\": {\n        \"dtype\": \"category\",\n        \"num_unique_values\": 14,\n        \"samples\": [\n          \"Juliana Costa\",\n          \"Mariana Herrera\",\n          \"Pedro Gomez\"\n        ],\n        \"semantic_type\": \"\",\n        \"description\": \"\"\n      }\n    },\n    {\n      \"column\": \"Lugar de Compra\",\n      \"properties\": {\n        \"dtype\": \"category\",\n        \"num_unique_values\": 19,\n        \"samples\": [\n          \"Bogot\\u00e1\",\n          \"Pereira\",\n          \"Neiva\"\n        ],\n        \"semantic_type\": \"\",\n        \"description\": \"\"\n      }\n    },\n    {\n      \"column\": \"Calificaci\\u00f3n\",\n      \"properties\": {\n        \"dtype\": \"number\",\n        \"std\": 1,\n        \"min\": 1,\n        \"max\": 5,\n        \"num_unique_values\": 5,\n        \"samples\": [\n          1,\n          2,\n          5\n        ],\n        \"semantic_type\": \"\",\n        \"description\": \"\"\n      }\n    },\n    {\n      \"column\": \"M\\u00e9todo de pago\",\n      \"properties\": {\n        \"dtype\": \"category\",\n        \"num_unique_values\": 4,\n        \"samples\": [\n          \"Nequi\",\n          \"Tarjeta de d\\u00e9bito\",\n          \"Tarjeta de cr\\u00e9dito\"\n        ],\n        \"semantic_type\": \"\",\n        \"description\": \"\"\n      }\n    },\n    {\n      \"column\": \"Cantidad de cuotas\",\n      \"properties\": {\n        \"dtype\": \"number\",\n        \"std\": 2,\n        \"min\": 1,\n        \"max\": 24,\n        \"num_unique_values\": 15,\n        \"samples\": [\n          7,\n          14,\n          8\n        ],\n        \"semantic_type\": \"\",\n        \"description\": \"\"\n      }\n    },\n    {\n      \"column\": \"lat\",\n      \"properties\": {\n        \"dtype\": \"number\",\n        \"std\": 2.2874452492678627,\n        \"min\": -4.21528,\n        \"max\": 11.54444,\n        \"num_unique_values\": 19,\n        \"samples\": [\n          4.60971,\n          4.81333,\n          2.9273\n        ],\n        \"semantic_type\": \"\",\n        \"description\": \"\"\n      }\n    },\n    {\n      \"column\": \"lon\",\n      \"properties\": {\n        \"dtype\": \"number\",\n        \"std\": 1.2178272727088486,\n        \"min\": -77.28111,\n        \"max\": -67.9239,\n        \"num_unique_values\": 19,\n        \"samples\": [\n          -74.08175,\n          -75.69611,\n          -75.28189\n        ],\n        \"semantic_type\": \"\",\n        \"description\": \"\"\n      }\n    }\n  ]\n}"
            }
          },
          "metadata": {},
          "execution_count": 1
        }
      ],
      "source": [
        "import pandas as pd\n",
        "\n",
        "url = \"https://raw.githubusercontent.com/alura-es-cursos/challenge1-data-science-latam/refs/heads/main/base-de-datos-challenge1-latam/tienda_1%20.csv\"\n",
        "url2 = \"https://raw.githubusercontent.com/alura-es-cursos/challenge1-data-science-latam/refs/heads/main/base-de-datos-challenge1-latam/tienda_2.csv\"\n",
        "url3 = \"https://raw.githubusercontent.com/alura-es-cursos/challenge1-data-science-latam/refs/heads/main/base-de-datos-challenge1-latam/tienda_3.csv\"\n",
        "url4 = \"https://raw.githubusercontent.com/alura-es-cursos/challenge1-data-science-latam/refs/heads/main/base-de-datos-challenge1-latam/tienda_4.csv\"\n",
        "\n",
        "tienda = pd.read_csv(url)\n",
        "tienda2 = pd.read_csv(url2)\n",
        "tienda3 = pd.read_csv(url3)\n",
        "tienda4 = pd.read_csv(url4)\n",
        "\n",
        "tienda.head()"
      ]
    },
    {
      "cell_type": "markdown",
      "source": [
        "#1. Análisis de facturación\n",
        "\n"
      ],
      "metadata": {
        "id": "X62IW3KFUIYm"
      }
    },
    {
      "cell_type": "code",
      "source": [
        "facturacion_total = df['Precio'].sum()\n",
        "print(\"💰 Facturación total:\", facturacion_total)"
      ],
      "metadata": {
        "colab": {
          "base_uri": "https://localhost:8080/"
        },
        "id": "mGjFHISJmwny",
        "outputId": "ebc75305-31d6-4260-8691-526ca7b257ae"
      },
      "execution_count": 20,
      "outputs": [
        {
          "output_type": "stream",
          "name": "stdout",
          "text": [
            "💰 Facturación total: 4403619200.0\n"
          ]
        }
      ]
    },
    {
      "cell_type": "code",
      "source": [
        "# Unir todos los DataFrames\n",
        "df = pd.concat([df1, df2, df3, df4], ignore_index=True)\n",
        "\n",
        "# Convertir la columna de fecha a tipo datetime\n",
        "df['Fecha de Compra'] = pd.to_datetime(df['Fecha de Compra'], dayfirst=True)\n",
        "\n",
        "# Extraer el año en una nueva columna\n",
        "df['Año'] = df['Fecha de Compra'].dt.year"
      ],
      "metadata": {
        "id": "nWC8wuprmwiw"
      },
      "execution_count": 35,
      "outputs": []
    },
    {
      "cell_type": "code",
      "source": [
        "facturacion_por_año = df.groupby('Año')['Precio'].sum().reset_index()\n",
        "print(\"\\n📆 Facturación por año:\")\n",
        "print(facturacion_por_año)"
      ],
      "metadata": {
        "colab": {
          "base_uri": "https://localhost:8080/"
        },
        "id": "WZE2HSs4l7Mk",
        "outputId": "4a0bb9d5-f576-4c15-c3b4-f42aa8e6cc06"
      },
      "execution_count": 36,
      "outputs": [
        {
          "output_type": "stream",
          "name": "stdout",
          "text": [
            "\n",
            "📆 Facturación por año:\n",
            "    Año        Precio\n",
            "0  2020  1.341955e+09\n",
            "1  2021  1.424114e+09\n",
            "2  2022  1.327452e+09\n",
            "3  2023  3.100980e+08\n"
          ]
        }
      ]
    },
    {
      "cell_type": "code",
      "source": [
        "facturacion_por_lugar = df.groupby('Lugar de Compra')['Precio'].sum().reset_index()\n",
        "facturacion_por_lugar_ordenada = facturacion_por_lugar.sort_values(by='Precio', ascending=False).reset_index(drop=True)\n",
        "\n",
        "print(\"\\n📍 Facturación por ciudad (todas las tiendas):\")\n",
        "print(facturacion_por_lugar_ordenada)"
      ],
      "metadata": {
        "colab": {
          "base_uri": "https://localhost:8080/"
        },
        "id": "Wh2aX9aOq82O",
        "outputId": "c7bf0d50-3c2f-40a8-da06-7b0c27a9efb1"
      },
      "execution_count": 37,
      "outputs": [
        {
          "output_type": "stream",
          "name": "stdout",
          "text": [
            "\n",
            "📍 Facturación por ciudad (todas las tiendas):\n",
            "   Lugar de Compra        Precio\n",
            "0           Bogotá  1.814858e+09\n",
            "1         Medellín  1.096669e+09\n",
            "2             Cali  5.065261e+08\n",
            "3          Pereira  2.259273e+08\n",
            "4     Barranquilla  1.320405e+08\n",
            "5        Cartagena  1.023767e+08\n",
            "6           Cúcuta  9.936910e+07\n",
            "7      Bucaramanga  9.057330e+07\n",
            "8         Riohacha  7.387970e+07\n",
            "9          Leticia  6.714990e+07\n",
            "10     Santa Marta  5.310050e+07\n",
            "11           Pasto  4.901430e+07\n",
            "12           Neiva  2.089800e+07\n",
            "13       Manizales  1.936790e+07\n",
            "14   Villavicencio  1.333360e+07\n",
            "15          Soacha  1.231770e+07\n",
            "16         Armenia  1.224290e+07\n",
            "17         Inírida  8.087900e+06\n",
            "18      Valledupar  5.886300e+06\n"
          ]
        }
      ]
    },
    {
      "cell_type": "markdown",
      "source": [
        "# 2. Ventas por categoría"
      ],
      "metadata": {
        "id": "2V_vcAPzWZmR"
      }
    },
    {
      "cell_type": "code",
      "source": [
        "# Agrupar y sumar ventas por categoría\n",
        "ventas_por_categoria = df.groupby('Categoría del Producto')['Precio'].sum().reset_index()\n",
        "\n",
        "# Ordenar de mayor a menor\n",
        "ventas_por_categoria = ventas_por_categoria.sort_values(by='Precio', ascending=False).reset_index(drop=True)\n",
        "\n",
        "# Mostrar resultado\n",
        "print(\"🛒 Ventas por categoría de producto:\\n\")\n",
        "print(ventas_por_categoria)\n"
      ],
      "metadata": {
        "colab": {
          "base_uri": "https://localhost:8080/"
        },
        "id": "A8rNZrGvrnRi",
        "outputId": "7eecc0d5-7604-4d53-8e58-1b2878495e55"
      },
      "execution_count": 43,
      "outputs": [
        {
          "output_type": "stream",
          "name": "stdout",
          "text": [
            "🛒 Ventas por categoría de producto:\n",
            "\n",
            "    Categoría del Producto        Precio\n",
            "0             Electrónicos  1.660576e+09\n",
            "1        Electrodomésticos  1.324751e+09\n",
            "2                  Muebles  7.576610e+08\n",
            "3   Instrumentos musicales  3.487726e+08\n",
            "4     Deportes y diversión  1.429777e+08\n",
            "5                 Juguetes  7.360440e+07\n",
            "6  Artículos para el hogar  5.757980e+07\n",
            "7                   Libros  3.769610e+07\n"
          ]
        }
      ]
    },
    {
      "cell_type": "markdown",
      "source": [
        "# 3. Calificación promedio de la tienda\n"
      ],
      "metadata": {
        "id": "Rq6tU_xSY3jk"
      }
    },
    {
      "cell_type": "code",
      "source": [
        "# Agrupar por ciudad y calcular promedio de calificación\n",
        "calificacion_promedio = df.groupby('Lugar de Compra')['Calificación'].mean().reset_index()\n",
        "\n",
        "# Ordenar de mayor a menor calificación\n",
        "calificacion_promedio = calificacion_promedio.sort_values(by='Calificación', ascending=False).reset_index(drop=True)\n",
        "\n",
        "# Mostrar resultados\n",
        "print(\"⭐ Calificación promedio por ciudad:\\n\")\n",
        "print(calificacion_promedio)\n"
      ],
      "metadata": {
        "id": "bh3jjjJwY5MU",
        "colab": {
          "base_uri": "https://localhost:8080/"
        },
        "outputId": "e21fb334-9e08-4499-b505-6eec7eeafded"
      },
      "execution_count": 45,
      "outputs": [
        {
          "output_type": "stream",
          "name": "stdout",
          "text": [
            "⭐ Calificación promedio por ciudad:\n",
            "\n",
            "   Lugar de Compra  Calificación\n",
            "0            Pasto      4.148936\n",
            "1           Bogotá      4.113619\n",
            "2       Valledupar      4.071429\n",
            "3             Cali      4.046673\n",
            "4        Cartagena      4.020661\n",
            "5          Pereira      4.013540\n",
            "6      Bucaramanga      3.977901\n",
            "7           Cúcuta      3.940860\n",
            "8         Medellín      3.926534\n",
            "9          Leticia      3.922535\n",
            "10        Riohacha      3.895706\n",
            "11          Soacha      3.894737\n",
            "12   Villavicencio      3.827586\n",
            "13    Barranquilla      3.803226\n",
            "14           Neiva      3.800000\n",
            "15         Inírida      3.642857\n",
            "16       Manizales      3.634146\n",
            "17     Santa Marta      3.596026\n",
            "18         Armenia      3.464286\n"
          ]
        }
      ]
    },
    {
      "cell_type": "markdown",
      "source": [
        "# 4. Productos más y menos vendidos"
      ],
      "metadata": {
        "id": "DmNp1KPBZCm-"
      }
    },
    {
      "cell_type": "code",
      "source": [
        "# Punto 4: Productos más y menos vendidos\n",
        "\n",
        "# Contar ventas por producto\n",
        "productos_vendidos = df['Producto'].value_counts().reset_index()\n",
        "productos_vendidos.columns = ['Producto', 'Cantidad de ventas']\n",
        "\n",
        "# Producto más vendido\n",
        "producto_mas_vendido = productos_vendidos.iloc[0]\n",
        "\n",
        "# Producto menos vendido\n",
        "producto_menos_vendido = productos_vendidos.iloc[-1]\n",
        "\n",
        "# Mostrar resultados\n",
        "print(\"📈 Producto más vendido:\")\n",
        "print(f\"- Producto: {producto_mas_vendido['Producto']}\")\n",
        "print(f\"- Cantidad de ventas: {producto_mas_vendido['Cantidad de ventas']}\")\n",
        "\n",
        "print(\"\\n📉 Producto menos vendido:\")\n",
        "print(f\"- Producto: {producto_menos_vendido['Producto']}\")\n",
        "print(f\"- Cantidad de ventas: {producto_menos_vendido['Cantidad de ventas']}\")\n",
        "\n",
        "# Mostrar tabla completa (opcional)\n",
        "print(\"\\n📦 Tabla de ventas por producto:\")\n",
        "print(productos_vendidos)\n"
      ],
      "metadata": {
        "colab": {
          "base_uri": "https://localhost:8080/"
        },
        "id": "-vDF7k36tEio",
        "outputId": "dd0b817b-c043-4de0-c1c1-65befb6f7bd7"
      },
      "execution_count": 48,
      "outputs": [
        {
          "output_type": "stream",
          "name": "stdout",
          "text": [
            "📈 Producto más vendido:\n",
            "- Producto: Mesa de noche\n",
            "- Cantidad de ventas: 210\n",
            "\n",
            "📉 Producto menos vendido:\n",
            "- Producto: Celular ABXY\n",
            "- Cantidad de ventas: 157\n",
            "\n",
            "📦 Tabla de ventas por producto:\n",
            "                       Producto  Cantidad de ventas\n",
            "0                 Mesa de noche                 210\n",
            "1     Carrito de control remoto                 206\n",
            "2                    Microondas                 206\n",
            "3                       Batería                 203\n",
            "4                     Cama king                 201\n",
            "5              Secadora de ropa                 200\n",
            "6           Modelado predictivo                 200\n",
            "7                  Set de ollas                 200\n",
            "8                      Cama box                 199\n",
            "9       Bloques de construcción                 199\n",
            "10                    Iphone 15                 198\n",
            "11                      Armario                 197\n",
            "12                    Pandereta                 197\n",
            "13          Balón de baloncesto                 197\n",
            "14                    Bicicleta                 196\n",
            "15    Iniciando en programación                 195\n",
            "16                     Smart TV                 192\n",
            "17                 Refrigerador                 191\n",
            "18                 Lavavajillas                 189\n",
            "19                   Cubertería                 189\n",
            "20            Guitarra acústica                 188\n",
            "21                    Impresora                 188\n",
            "22                Kit de bancas                 188\n",
            "23                 Vaso térmico                 187\n",
            "24                       Estufa                 187\n",
            "25                TV LED UHD 4K                 187\n",
            "26           Cuerda para saltar                 186\n",
            "27              Mesa de comedor                 185\n",
            "28            Balón de voleibol                 184\n",
            "29              Sofá reclinable                 182\n",
            "30             Silla de oficina                 181\n",
            "31      Dashboards con Power BI                 181\n",
            "32              Cubo mágico 8x8                 180\n",
            "33            Ajedrez de madera                 180\n",
            "34                  Tablet ABXY                 179\n",
            "35             Lavadora de ropa                 176\n",
            "36                  Muñeca bebé                 175\n",
            "37               Mesa de centro                 175\n",
            "38               Dinosaurio Rex                 175\n",
            "39                Juego de mesa                 175\n",
            "40                  Auriculares                 174\n",
            "41              Olla de presión                 172\n",
            "42                   Smartwatch                 172\n",
            "43                 Set de vasos                 169\n",
            "44                       Sillón                 168\n",
            "45            Asistente virtual                 167\n",
            "46  Ciencia de datos con Python                 166\n",
            "47           Guitarra eléctrica                 165\n",
            "48                      Mochila                 163\n",
            "49    Auriculares con micrófono                 158\n",
            "50                 Celular ABXY                 157\n"
          ]
        }
      ]
    },
    {
      "cell_type": "markdown",
      "source": [
        "# 5. Envío promedio por tienda"
      ],
      "metadata": {
        "id": "Fl0cGi3bZKqU"
      }
    },
    {
      "cell_type": "code",
      "source": [
        "# Agrupar por ciudad y calcular promedio del costo de envío\n",
        "envio_promedio = df.groupby('Lugar de Compra')['Costo de envío'].mean().reset_index()\n",
        "\n",
        "# Ordenar de mayor a menor\n",
        "envio_promedio = envio_promedio.sort_values(by='Costo de envío', ascending=False).reset_index(drop=True)\n",
        "\n",
        "# Mostrar resultados\n",
        "print(\"🚚 Costo de envío promedio por ciudad:\\n\")\n",
        "print(envio_promedio)\n"
      ],
      "metadata": {
        "colab": {
          "base_uri": "https://localhost:8080/"
        },
        "id": "yWLZWUEgtWOT",
        "outputId": "b6f73793-d5a2-496d-956e-15726d09f679"
      },
      "execution_count": 50,
      "outputs": [
        {
          "output_type": "stream",
          "name": "stdout",
          "text": [
            "🚚 Costo de envío promedio por ciudad:\n",
            "\n",
            "   Lugar de Compra  Costo de envío\n",
            "0           Soacha    34768.421053\n",
            "1          Inírida    30557.142857\n",
            "2           Cúcuta    28597.311828\n",
            "3            Pasto    27801.063830\n",
            "4            Neiva    27710.000000\n",
            "5      Bucaramanga    26790.055249\n",
            "6             Cali    26726.812314\n",
            "7          Leticia    25317.605634\n",
            "8         Medellín    25282.022472\n",
            "9    Villavicencio    25100.000000\n",
            "10       Manizales    24948.780488\n",
            "11          Bogotá    24532.082171\n",
            "12        Riohacha    24127.607362\n",
            "13         Pereira    23211.411992\n",
            "14         Armenia    22867.857143\n",
            "15    Barranquilla    22692.258065\n",
            "16       Cartagena    22638.429752\n",
            "17      Valledupar    22021.428571\n",
            "18     Santa Marta    18752.317881\n"
          ]
        }
      ]
    }
  ]
}